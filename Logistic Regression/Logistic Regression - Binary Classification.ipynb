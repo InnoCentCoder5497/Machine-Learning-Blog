{
 "cells": [
  {
   "cell_type": "markdown",
   "metadata": {},
   "source": [
    "# Logistic Regression - Binary Classification\n",
    "\n",
    "## Import Libraries"
   ]
  },
  {
   "cell_type": "code",
   "execution_count": 1,
   "metadata": {},
   "outputs": [],
   "source": [
    "import numpy as np\n",
    "import matplotlib.pyplot as plt\n",
    "\n",
    "# set figure style\n",
    "plt.style.use('seaborn-whitegrid')\n",
    "# random seed for reproducibility\n",
    "np.random.seed(101)"
   ]
  },
  {
   "cell_type": "markdown",
   "metadata": {},
   "source": [
    "## Logistic regression\n",
    "In statistics, the `logistic model` (or logit model) is used to model the probability of a certain class or event existing such as *pass/fail*, *win/lose*, *alive/dead* or *healthy/sick*. This can be extended to model several classes of events such as determining whether an image contains a cat, dog, lion, etc.\n",
    "\n",
    "The basic idea of logictic regression is to model the probability of certain entity belonging to one of the 2 or more classes or categories. \n",
    "\n",
    "Logistic regression is named for the function used at the core of the method, the `logistic function`. The `logistic function`, also called the **sigmoid function** was developed by statisticians to describe properties of population growth in ecology, rising quickly and maxing out at the carrying capacity of the environment. It’s an S-shaped curve that can take any real-valued number and map it into a value between 0 and 1, but never exactly at those limits.\n",
    "\n",
    "The sigmoid function is defined as, \n",
    "\n",
    "$$\n",
    "\\sigma(x) = \\frac {1} {1 + e^{-x}}\n",
    "$$\n",
    "\n",
    "<img src=\"./imgs/sigmoid.png\" width = \"512\" height = \"512\" />\n",
    "\n",
    "Except for this logistic function, `Logistic Regression` is essentially same as Linear Regression. We have some predictor variables, from which we want to make predictions, and we have an outcome variable, which represent the class/category of the instance of predictor variables.\n",
    "\n",
    "The only difference here is that after multiplying the model weights with predictor variables, we apply sigmoid on the output to get a probability value, which we use to make the prediction about the category of the instance. This is represented as, \n",
    "\n",
    "$$\n",
    "a(X) = W^T . X\n",
    "$$\n",
    "where,\n",
    "- $a(X)$ : logits for example X\n",
    "- $W$ : Weight matrix\n",
    "- $X$ : predictor variables\n",
    "\n",
    "Now, we pass these logits through the sigmoid function, which activates the output to produce probability.\n",
    "\n",
    "$$\n",
    "\\hat{y} = \\sigma( a(X) )\n",
    "$$\n",
    "\n",
    "Once, we get the activated result, we threshold the result as follows,\n",
    "\n",
    "$$\n",
    "\\hat{y} = \\left\\{\\begin{array}{l}1, \\quad if \\quad \\hat{y} \\ge 0.5\\\\0 \\quad otherwise\\end{array}\\right.\n",
    "$$"
   ]
  },
  {
   "cell_type": "markdown",
   "metadata": {},
   "source": [
    "## Simple Example\n",
    "Suppose that you are the administrator of a university department and you want to determine each applicant’s chance of admission based on their results on two exams. You have historical data from previous applicants that you can use as a training set for logistic regression. \n",
    "\n",
    "For each training example, you have the applicant’s scores on two exams and the admissions decision. Your task is to build a classiﬁcation model that estimates an applicant’s probability of admission based the scores from those two exam\n",
    "\n",
    "**Note**: The dataset is taken from `Stanford machine Learning Course`, link in references.\n",
    "\n",
    "Let's first load the data and plot it to see how it looks\n",
    "\n",
    "### Visualizing Data"
   ]
  },
  {
   "cell_type": "code",
   "execution_count": 2,
   "metadata": {},
   "outputs": [
    {
     "data": {
      "image/png": "[encoded data removed]",
      "text/plain": [
       "<Figure size 576x576 with 1 Axes>"
      ]
     },
     "metadata": {},
     "output_type": "display_data"
    }
   ],
   "source": [
    "# Load data\n",
    "data = np.genfromtxt(\"AdmissionData.txt\", delimiter=\",\")\n",
    "\n",
    "# seperate examples of each class in different variables\n",
    "cls_0 = data[np.where(data[:, 2] == 0)]\n",
    "cls_1 = data[np.where(data[:, 2] == 1)]\n",
    "\n",
    "# Plotting data\n",
    "fig = plt.figure(figsize=(8, 8))\n",
    "plt.scatter(cls_0[:, 0], cls_0[:, 1], label = \"Not Admitted\")\n",
    "plt.scatter(cls_1[:, 0], cls_1[:, 1], label = \"Admitted\")\n",
    "plt.title(\"Admission data\")\n",
    "plt.xlabel('Marks in 1st Exam')\n",
    "plt.ylabel('Marks in 2nd Exam')\n",
    "plt.legend()\n",
    "plt.show()"
   ]
  },
  {
   "cell_type": "markdown",
   "metadata": {},
   "source": [
    "### Loading Data\n",
    "Let's load our data in variables `X` and `y` and also initialize the model parameters `theta`."
   ]
  },
  {
   "cell_type": "code",
   "execution_count": 3,
   "metadata": {},
   "outputs": [],
   "source": [
    "x_values = data[:, :-1]\n",
    "X = np.ones((x_values.shape[0], x_values.shape[1] + 1))\n",
    "X[:, 1:] = x_values\n",
    "\n",
    "y_values = data[:, -1]\n",
    "y = y_values.reshape(-1, 1)\n",
    "\n",
    "theta = np.random.rand(X.shape[1], 1)"
   ]
  },
  {
   "cell_type": "markdown",
   "metadata": {},
   "source": [
    "Now, let's code our sigmoid function, along with functions to calculate logits and probabilities.\n",
    "\n",
    "**Note**: We are going to use an advance optimization technique, preimplemented in `scipy` library. For that we write all the functions in such a way that our model parametrs are the first argument to the functions."
   ]
  },
  {
   "cell_type": "code",
   "execution_count": 4,
   "metadata": {},
   "outputs": [],
   "source": [
    "# Sigmoid function\n",
    "def sigmoid(z):\n",
    "    return 1 / (1 + np.exp(-z))\n",
    "\n",
    "# Calculate Logits\n",
    "def logits(weights, x):\n",
    "    return np.dot(x, weights)\n",
    "\n",
    "# Calculate probabilities\n",
    "def probability(weights, x):\n",
    "    return sigmoid(logits(weights, x))"
   ]
  },
  {
   "cell_type": "markdown",
   "metadata": {},
   "source": [
    "### Cost function\n",
    "In Machine Learning, cost functions are used to estimate how badly models are performing.Put simply, a cost function is a measure of how wrong the model is in terms of its ability to estimate the relationship between X and y.\n",
    "\n",
    "The cost function in `Logistic Regression` is different from the one in `Linear Regression`, as now the output of our model is not continous, it is discrete. So we need a loss function that can account for these discrete values.\n",
    "\n",
    "#### Cross Entropy Loss\n",
    "Cross-entropy loss, or log loss, measures the performance of a classification model whose output is a probability value between 0 and 1. Cross-entropy loss increases as the predicted probability diverges from the actual label.\n",
    "\n",
    "In binary classification, the cross entropy loss is defined as,\n",
    "\n",
    "$$\n",
    "Cost(\\hat{y}, y) = \\left\\{\\begin{array}{l}-log(\\hat{y}) \\quad \\quad \\quad if \\quad y = 1\\\\-log(1 - \\hat{y}) \\quad \\quad if \\quad y = 0\\end{array}\\right.\n",
    "$$\n",
    "\n",
    "We can combine this two part equation to form our final cost function as follows,\n",
    "\n",
    "$$\n",
    "J = - \\frac {1} {m} \\{ \\sum_{i = 1}^{m} y.log(\\hat{y}) + (1 - y).log(1 - \\hat{y}) \\}\n",
    "$$\n",
    "\n",
    "where,\n",
    "- $J$ : Cost function\n",
    "- $m$ : number of instances\n",
    "- $y$ : Ground truth\n",
    "- $\\hat{y}$ : predicted class\n",
    "\n",
    "Let's code the above equation."
   ]
  },
  {
   "cell_type": "code",
   "execution_count": 5,
   "metadata": {},
   "outputs": [
    {
     "data": {
      "text/plain": [
       "10.266839755073084"
      ]
     },
     "execution_count": 5,
     "metadata": {},
     "output_type": "execute_result"
    }
   ],
   "source": [
    "def cost_function(weights, x, y, epsilon = 1e-12):\n",
    "    m = x.shape[0]\n",
    "    y_hat = probability(weights, x)\n",
    "    cost = -y * np.log(y_hat + epsilon) - (1 - y) * np.log(1 - y_hat + epsilon)\n",
    "    cost = (1 / m) * np.sum(cost)\n",
    "    return cost\n",
    "\n",
    "cost_function(theta, X, y)"
   ]
  },
  {
   "cell_type": "markdown",
   "metadata": {},
   "source": [
    "Now, we have our cost function. We need to find the gradients in order to update our model parameters so that it can learn. The cost function may look daunting at first when starting to differentiate but is very easy, once you know the differential of sigmoid function which is as follows, \n",
    "\n",
    "$$\n",
    "\\sigma(x) = \\frac {1} {1 + e^{-x}}\n",
    "$$\n",
    "\n",
    "Differetial, \n",
    "$$\n",
    "\\sigma'(x) = \\sigma(x).(1 - \\sigma(x))\n",
    "$$\n",
    "\n",
    "To save space I am just writing the Gradient function and showing the complete proof of how I got it. You are welcome to try and differentiate on your own.\n",
    "\n",
    "The gradient for the above cost function is actually same as that we used in `Linear regression`, which is as follows,\n",
    "\n",
    "$$\n",
    "gradient = \\sum_{i = 1}^{m} [\\hat{y}^{(i)} - y^{(i)}].x_{j}^{(i)}\n",
    "$$\n",
    "\n",
    "Let's code this bad boy up."
   ]
  },
  {
   "cell_type": "code",
   "execution_count": 6,
   "metadata": {},
   "outputs": [
    {
     "data": {
      "text/plain": [
       "array([ 0.4       , 20.81292044, 21.84815683])"
      ]
     },
     "execution_count": 6,
     "metadata": {},
     "output_type": "execute_result"
    }
   ],
   "source": [
    "def gradient(weights, x, y):\n",
    "    grad = (1 / x.shape[0]) * np.matmul(x.T, probability(weights, x) - y)\n",
    "    return grad.flatten()\n",
    "\n",
    "gradient(theta, X, y)"
   ]
  },
  {
   "cell_type": "markdown",
   "metadata": {},
   "source": [
    "Now we have all the pieces we need to start optimizing our model parameters. We are going to use an advanced optimization technique known as **BFGS algorithm** given by `Broyden, Fletcher, Goldfarb and Shanno`.\n",
    "\n",
    "Now don't worry, we don't need to implement it all by hand. It is preimplemented in the scipy library. The `fmin_bfgs` method requires the following essential parameters,\n",
    "- Funtion to optimize aka our Cost Funtion\n",
    "- Initial guess of parameters\n",
    "- The gradient function\n",
    "- Aditional arguments to pass to cost and gradient function, if any\n",
    "\n",
    "and thats it, the method will run optimization and give back optimized parameters."
   ]
  },
  {
   "cell_type": "code",
   "execution_count": 7,
   "metadata": {},
   "outputs": [
    {
     "name": "stdout",
     "output_type": "stream",
     "text": [
      "Optimization terminated successfully.\n",
      "         Current function value: 0.203498\n",
      "         Iterations: 22\n",
      "         Function evaluations: 32\n",
      "         Gradient evaluations: 32\n",
      "Optimized parameters :  [-25.16132928   0.20623169   0.20147154]\n"
     ]
    }
   ],
   "source": [
    "from scipy.optimize import fmin_bfgs\n",
    "\n",
    "optimized_params = fmin_bfgs(cost_function, theta, gradient, args=(X, y.flatten()), disp=True)\n",
    "\n",
    "print(\"Optimized parameters : \", optimized_params)"
   ]
  },
  {
   "cell_type": "markdown",
   "metadata": {},
   "source": [
    "Now we have our optimized parameters, we can plot the decision boundary of our model. We know that our data has 2 predictor variable so the model finds the optimal values of weights for following equation,\n",
    "\n",
    "$$\n",
    "\\hat{y} = \\sigma (w_0 + w_1.x_1 + w_2.x_2)\n",
    "$$\n",
    "\n",
    "To find the decision boundary, we put the weighted sum of inputs from the equation to zero as follows,\n",
    "\n",
    "$$\n",
    "w_0 + w_1.x_1 + w_2.x_2 = 0\n",
    "$$\n",
    "\n",
    "This takes us to the equation,\n",
    "\n",
    "$$\n",
    "x_2 = -\\frac {w_0 + w_1.x_1} {w_2}\n",
    "$$\n",
    "\n",
    "Now, using this equation we can plot the decision boundary. Let's do it."
   ]
  },
  {
   "cell_type": "code",
   "execution_count": 8,
   "metadata": {},
   "outputs": [
    {
     "data": {
      "image/png": "[encoded data removed]",
      "text/plain": [
       "<Figure size 576x576 with 1 Axes>"
      ]
     },
     "metadata": {},
     "output_type": "display_data"
    }
   ],
   "source": [
    "# Calculating decision boundary as describe above\n",
    "x_values = [np.min(X[:, 1]), np.max(X[:, 2])]\n",
    "y_values = - (optimized_params[0] + np.dot(optimized_params[1], x_values)) / optimized_params[2]\n",
    "\n",
    "# Ploting results\n",
    "fig = plt.figure(figsize=(8, 8))\n",
    "plt.plot(x_values, y_values, label='Decision Boundary')\n",
    "plt.scatter(cls_0[:, 0], cls_0[:, 1], label = \"Not Admitted\")\n",
    "plt.scatter(cls_1[:, 0], cls_1[:, 1], label = \"Admitted\")\n",
    "plt.title(\"Admission data\")\n",
    "plt.xlabel('Marks in 1st Exam')\n",
    "plt.ylabel('Marks in 2nd Exam')\n",
    "plt.legend()\n",
    "plt.show()"
   ]
  },
  {
   "cell_type": "markdown",
   "metadata": {},
   "source": [
    "## Lower Back Pain\n",
    "Let's take all we have learned to determine whether a patient have lower back pain or not. The problem is to identify a person is abnormal or normal using collected physical spine details/data. \n",
    "\n",
    "Lower back pain can be caused by a variety of problems with any parts of the complex, interconnected network of spinal muscles, nerves, bones, discs or tendons in the lumbar spine. Typical sources of low back pain include:\n",
    "\n",
    "- The large nerve roots in the low back that go to the legs may be irritated\n",
    "- The smaller nerves that supply the low back may be irritated\n",
    "- The large paired lower back muscles (erector spinae) may be strained\n",
    "- The bones, ligaments or joints may be damaged\n",
    "- An intervertebral disc may be degenerating\n",
    "\n",
    "Let's load the data and have a peek at it.\n",
    "\n",
    "**Note** : The data is taken from `Kaggle`, the source is mentioned in references."
   ]
  },
  {
   "cell_type": "code",
   "execution_count": 9,
   "metadata": {},
   "outputs": [
    {
     "name": "stdout",
     "output_type": "stream",
     "text": [
      "Dataset shape : (310, 13)\n",
      "First 5 rows\n"
     ]
    },
    {
     "data": {
      "text/html": [
       "<div>\n",
       "<style scoped>\n",
       "    .dataframe tbody tr th:only-of-type {\n",
       "        vertical-align: middle;\n",
       "    }\n",
       "\n",
       "    .dataframe tbody tr th {\n",
       "        vertical-align: top;\n",
       "    }\n",
       "\n",
       "    .dataframe thead th {\n",
       "        text-align: right;\n",
       "    }\n",
       "</style>\n",
       "<table border=\"1\" class=\"dataframe\">\n",
       "  <thead>\n",
       "    <tr style=\"text-align: right;\">\n",
       "      <th></th>\n",
       "      <th>Col1</th>\n",
       "      <th>Col2</th>\n",
       "      <th>Col3</th>\n",
       "      <th>Col4</th>\n",
       "      <th>Col5</th>\n",
       "      <th>Col6</th>\n",
       "      <th>Col7</th>\n",
       "      <th>Col8</th>\n",
       "      <th>Col9</th>\n",
       "      <th>Col10</th>\n",
       "      <th>Col11</th>\n",
       "      <th>Col12</th>\n",
       "      <th>Class_att</th>\n",
       "    </tr>\n",
       "  </thead>\n",
       "  <tbody>\n",
       "    <tr>\n",
       "      <th>0</th>\n",
       "      <td>63.792425</td>\n",
       "      <td>21.345323</td>\n",
       "      <td>66.000000</td>\n",
       "      <td>42.447102</td>\n",
       "      <td>119.550391</td>\n",
       "      <td>12.382604</td>\n",
       "      <td>0.607879</td>\n",
       "      <td>21.5605</td>\n",
       "      <td>8.0233</td>\n",
       "      <td>8.72676</td>\n",
       "      <td>-8.842283</td>\n",
       "      <td>34.5721</td>\n",
       "      <td>1</td>\n",
       "    </tr>\n",
       "    <tr>\n",
       "      <th>1</th>\n",
       "      <td>57.035097</td>\n",
       "      <td>0.345728</td>\n",
       "      <td>49.198003</td>\n",
       "      <td>56.689369</td>\n",
       "      <td>103.048698</td>\n",
       "      <td>52.165145</td>\n",
       "      <td>0.561323</td>\n",
       "      <td>35.4921</td>\n",
       "      <td>14.1033</td>\n",
       "      <td>7.99506</td>\n",
       "      <td>-26.223143</td>\n",
       "      <td>40.1564</td>\n",
       "      <td>0</td>\n",
       "    </tr>\n",
       "    <tr>\n",
       "      <th>2</th>\n",
       "      <td>51.624672</td>\n",
       "      <td>15.969344</td>\n",
       "      <td>35.000000</td>\n",
       "      <td>35.655328</td>\n",
       "      <td>129.385308</td>\n",
       "      <td>1.009228</td>\n",
       "      <td>0.005045</td>\n",
       "      <td>32.4200</td>\n",
       "      <td>13.8149</td>\n",
       "      <td>11.28490</td>\n",
       "      <td>-25.770956</td>\n",
       "      <td>35.6191</td>\n",
       "      <td>1</td>\n",
       "    </tr>\n",
       "    <tr>\n",
       "      <th>3</th>\n",
       "      <td>68.613001</td>\n",
       "      <td>15.082235</td>\n",
       "      <td>63.014696</td>\n",
       "      <td>53.530766</td>\n",
       "      <td>123.431174</td>\n",
       "      <td>39.497987</td>\n",
       "      <td>0.249351</td>\n",
       "      <td>27.0646</td>\n",
       "      <td>17.7171</td>\n",
       "      <td>7.18220</td>\n",
       "      <td>-20.883262</td>\n",
       "      <td>17.1130</td>\n",
       "      <td>0</td>\n",
       "    </tr>\n",
       "    <tr>\n",
       "      <th>4</th>\n",
       "      <td>41.729963</td>\n",
       "      <td>12.254074</td>\n",
       "      <td>30.122586</td>\n",
       "      <td>29.475889</td>\n",
       "      <td>116.585706</td>\n",
       "      <td>-1.244402</td>\n",
       "      <td>0.468526</td>\n",
       "      <td>28.5598</td>\n",
       "      <td>12.4637</td>\n",
       "      <td>14.19610</td>\n",
       "      <td>-20.392538</td>\n",
       "      <td>33.0265</td>\n",
       "      <td>0</td>\n",
       "    </tr>\n",
       "  </tbody>\n",
       "</table>\n",
       "</div>"
      ],
      "text/plain": [
       "        Col1       Col2       Col3       Col4        Col5       Col6  \\\n",
       "0  63.792425  21.345323  66.000000  42.447102  119.550391  12.382604   \n",
       "1  57.035097   0.345728  49.198003  56.689369  103.048698  52.165145   \n",
       "2  51.624672  15.969344  35.000000  35.655328  129.385308   1.009228   \n",
       "3  68.613001  15.082235  63.014696  53.530766  123.431174  39.497987   \n",
       "4  41.729963  12.254074  30.122586  29.475889  116.585706  -1.244402   \n",
       "\n",
       "       Col7     Col8     Col9     Col10      Col11    Col12  Class_att  \n",
       "0  0.607879  21.5605   8.0233   8.72676  -8.842283  34.5721          1  \n",
       "1  0.561323  35.4921  14.1033   7.99506 -26.223143  40.1564          0  \n",
       "2  0.005045  32.4200  13.8149  11.28490 -25.770956  35.6191          1  \n",
       "3  0.249351  27.0646  17.7171   7.18220 -20.883262  17.1130          0  \n",
       "4  0.468526  28.5598  12.4637  14.19610 -20.392538  33.0265          0  "
      ]
     },
     "execution_count": 9,
     "metadata": {},
     "output_type": "execute_result"
    }
   ],
   "source": [
    "# for data loading\n",
    "import pandas as pd\n",
    "# read data\n",
    "df = pd.read_csv(\"Dataset_spine.csv\")\n",
    "df = df.iloc[:, :-1]\n",
    "df = df.sample(frac=1).reset_index(drop=True)\n",
    "# convert labels to numeric values\n",
    "df.Class_att = df.Class_att.replace({\"Abnormal\" : 0, \"Normal\" : 1})\n",
    "\n",
    "print(\"Dataset shape :\", df.shape)\n",
    "print(\"First 5 rows\")\n",
    "df.head()"
   ]
  },
  {
   "cell_type": "markdown",
   "metadata": {},
   "source": [
    "As we can observe, these are 310 Observations with 13 Attributes out of which 12 are Numeric Predictors and 1 is  Binary Class Attribute.\n",
    "\n",
    "We will now split our dataset in two halves, training and testing"
   ]
  },
  {
   "cell_type": "code",
   "execution_count": 10,
   "metadata": {},
   "outputs": [],
   "source": [
    "# split function\n",
    "from sklearn.model_selection import train_test_split\n",
    "\n",
    "# create train (90%) and test splits (10%)\n",
    "train_data, test_data = train_test_split(df, test_size = 0.1)\n",
    "\n",
    "# create variable for predictors\n",
    "features = train_data.iloc[:, :-1]\n",
    "X = np.ones((features.shape[0], features.shape[1] + 1))\n",
    "X[:, 1:] = features.values\n",
    "\n",
    "# create variable for ground truth\n",
    "y = train_data.iloc[:, -1].values\n",
    "y = y.reshape(-1, 1)\n",
    "\n",
    "# initialize model weights\n",
    "weights = np.random.rand(X.shape[1], 1)"
   ]
  },
  {
   "cell_type": "markdown",
   "metadata": {},
   "source": [
    "As we have already defined our cost function adn gradient function we can directly optimize the model weights using `bfgs` metod as follows"
   ]
  },
  {
   "cell_type": "code",
   "execution_count": 11,
   "metadata": {},
   "outputs": [
    {
     "name": "stdout",
     "output_type": "stream",
     "text": [
      "Optimization terminated successfully.\n",
      "         Current function value: 0.280092\n",
      "         Iterations: 48\n",
      "         Function evaluations: 59\n",
      "         Gradient evaluations: 59\n",
      "Optimal parameters:\n",
      " [-1.48846984e+01  9.99803510e-02 -1.86849956e-01  2.41924882e-02\n",
      " -4.84189267e-03  1.04844825e-01 -1.75051977e-01  4.28544587e-01\n",
      " -1.15103571e-02  6.02502998e-02 -8.28438150e-02  2.02303985e-03\n",
      "  7.84927484e-03]\n"
     ]
    },
    {
     "name": "stderr",
     "output_type": "stream",
     "text": [
      "<ipython-input-4-51e6712bf5f2>:3: RuntimeWarning: overflow encountered in exp\n",
      "  return 1 / (1 + np.exp(-z))\n"
     ]
    }
   ],
   "source": [
    "opt_params = fmin_bfgs(cost_function, weights, gradient, args=(X, y.flatten()), disp=True)\n",
    "\n",
    "print(\"Optimal parameters:\\n\", opt_params)"
   ]
  },
  {
   "cell_type": "markdown",
   "metadata": {},
   "source": [
    "As their are 13 predictor variables, it is difficult to draw decision boundary for this example. But we have many metrics that shows us how well our model is performing.\n",
    "\n",
    "\n",
    "Let's first generate prediction for our test test using our trained model."
   ]
  },
  {
   "cell_type": "code",
   "execution_count": 12,
   "metadata": {},
   "outputs": [],
   "source": [
    "# load test data in variables\n",
    "test_features = test_data.iloc[:, :-1]\n",
    "test_X = np.ones((test_features.shape[0], test_features.shape[1] + 1))\n",
    "\n",
    "test_X[:, 1:] = test_features.values\n",
    "\n",
    "test_y = test_data.iloc[:, -1].values\n",
    "test_y = test_y.reshape(-1, 1)\n",
    "\n",
    "# generate predictions probabilities\n",
    "predictions = probability(opt_params, test_X)\n",
    "\n",
    "# generate class prediction\n",
    "predictions[np.where(predictions >= 0.5)] = 1\n",
    "predictions[np.where(predictions < 0.5)] = 0"
   ]
  },
  {
   "cell_type": "markdown",
   "metadata": {},
   "source": [
    "Now we have our predictions, we will calculate how accurate is our model, by comparing its predictions with the ground truth. the scikit-learn's accuracy score method will do this for us."
   ]
  },
  {
   "cell_type": "code",
   "execution_count": 13,
   "metadata": {},
   "outputs": [
    {
     "name": "stdout",
     "output_type": "stream",
     "text": [
      "Accuracy on test set 77.42%\n"
     ]
    }
   ],
   "source": [
    "from sklearn.metrics import accuracy_score, classification_report\n",
    "\n",
    "print(\"Accuracy on test set {:.2f}%\".format(accuracy_score(test_y, predictions) * 100))"
   ]
  },
  {
   "cell_type": "markdown",
   "metadata": {},
   "source": [
    "As the dataset is very small, 77% accuracy is really good given low amount of data. you are welcome to play with different optimizers and parameters to try and improve the accuracy.\n",
    "\n",
    "## References\n",
    "- **Logistic regression** : https://en.wikipedia.org/wiki/Logistic_regression\n",
    "- **Cross Entropy** : https://ml-cheatsheet.readthedocs.io/en/latest/loss_functions.html\n",
    "- **Admission Dataset** : https://web.stanford.edu/class/archive/cs/cs109/cs109.1176/lectures/23-LogisticRegression.pdf\n",
    "- **BFGS** : https://en.wikipedia.org/wiki/Broyden%E2%80%93Fletcher%E2%80%93Goldfarb%E2%80%93Shanno_algorithm\n",
    "- **Lower back pain Dataset** : https://www.kaggle.com/sammy123/lower-back-pain-symptoms-dataset"
   ]
  }
 ],
 "metadata": {
  "kernelspec": {
   "display_name": "Python 3",
   "language": "python",
   "name": "python3"
  },
  "language_info": {
   "codemirror_mode": {
    "name": "ipython",
    "version": 3
   },
   "file_extension": ".py",
   "mimetype": "text/x-python",
   "name": "python",
   "nbconvert_exporter": "python",
   "pygments_lexer": "ipython3",
   "version": "3.7.4"
  }
 },
 "nbformat": 4,
 "nbformat_minor": 4
}
