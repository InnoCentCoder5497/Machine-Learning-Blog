{
 "cells": [
  {
   "cell_type": "markdown",
   "metadata": {},
   "source": [
    "# Gradient Decent\n",
    "Gradient descent is a first-order iterative optimization algorithm for finding the minimum of a function. To find a local minimum of a function using gradient descent, one takes steps proportional to the negative of the gradient (or approximate gradient) of the function at the current point.\n",
    "\n",
    "To have an intuitive idea about how Gradient Decent work, Imagine you're at the top of the highest peak in a park. Your friends have dared you to reach the lowest point in the park (assuming their is only one lowest point in whole park) blindfolded from the top. You accepted their challenge and you are ready to begin at the top of the peak. Their are two ways in which you can proceed:\n",
    "\n",
    "- <b>Naive Way</b>: You start moving in the direction you feel is correct without much thought. You may reach the lowest point, if you are lucky, but their are no guarentees.\n",
    "- <b>Strategic Way</b>: You hover your feet all around yourself and feel where is the lowest point around you in one step. You take a step in that direction and repeat the process until everything around you feel at the same heighjt and stop at that point. This way you are guarenteed to reach the lowest point.\n",
    "\n",
    "The second alternative is known as Gredient Decent. The algorithm takes one step at a time in the direction of most negative gradient, the lowest point around current position along the cost function and repeat the process.\n",
    "\n",
    "## Example\n",
    "Consider the following function we want to optimize\n",
    "<br>\n",
    "<font size=\"4\">\n",
    "\\begin{equation}\n",
    "y = (x - 3)^2 + 4\n",
    "\\end{equation}\n",
    "</font>\n",
    "\n",
    "The gradient of the function at a point $x_0$ is the derivative of the function at $x_0$ that is $y'(x_0)$. The negative of this gradient points in the direction of the lowest point around $x$, the current point.\n",
    "We use this negative gradient to find out the next lowest point in the direction of minimum, updating $x$ as\n",
    "\n",
    "<font size=\"4\">\n",
    "\\begin{equation}\n",
    "x_{n+1} = x_n - \\alpha y'(x_n)\n",
    "\\end{equation}\n",
    "</font>\n",
    "\n",
    "where $y'(x)$ is defined as, for equation $(1)$\n",
    "<br><br>\n",
    "<font size=\"4\">\n",
    "\\begin{equation}\n",
    "y'(x) = 2(x - 3)\n",
    "\\end{equation}\n",
    "</font>\n",
    "<br>\n",
    "and $\\alpha$ is called as `Learning rate`, it signifies how big of a step we want to take in the chosen direction.\n",
    "<br><br>\n",
    "Let's first plot the equation and after that we will see how gradient decent tries to find the minimum."
   ]
  },
  {
   "cell_type": "markdown",
   "metadata": {},
   "source": [
    "## Importing necessary libraries\n",
    "\n",
    "- <b>numpy</b> : NumPy is the fundamental package for scientific computing with Python. For all major mathematical computations we afre going to use numpy\n",
    "<br>\n",
    "- <b>matplotlib.pyplot</b> : Matplotlib is a Python 2D plotting library.  We are going to use this every now and then to visually plot our data"
   ]
  },
  {
   "cell_type": "code",
   "execution_count": 2,
   "metadata": {},
   "outputs": [],
   "source": [
    "import numpy as np\n",
    "import matplotlib.pyplot as plt"
   ]
  },
  {
   "cell_type": "markdown",
   "metadata": {},
   "source": [
    "### Equation (1) in code"
   ]
  },
  {
   "cell_type": "code",
   "execution_count": 13,
   "metadata": {},
   "outputs": [],
   "source": [
    "def func_y(x):\n",
    "    '''\n",
    "        Arguments:\n",
    "        - x :\n",
    "            point x to find corresponding y\n",
    "    '''\n",
    "    return (x - 3) ** 2 + 4"
   ]
  },
  {
   "cell_type": "markdown",
   "metadata": {},
   "source": [
    "Generating some random points and ploting our function"
   ]
  },
  {
   "cell_type": "code",
   "execution_count": 12,
   "metadata": {},
   "outputs": [
    {
     "data": {
      "text/plain": [
       "[<matplotlib.lines.Line2D at 0x189c9c2a348>]"
      ]
     },
     "execution_count": 12,
     "metadata": {},
     "output_type": "execute_result"
    },
    {
     "data": {
      "image/png": "[encoded data removed]",
      "text/plain": [
       "<Figure size 432x288 with 1 Axes>"
      ]
     },
     "metadata": {
      "needs_background": "light"
     },
     "output_type": "display_data"
    }
   ],
   "source": [
    "x_values = np.arange(-4, 10, 0.1) #<- equispaces x values between -4 and 10\n",
    "y_values = func_y(x_values) #<- corresponding y values\n",
    "\n",
    "plt.plot(x_values, y_values) #<- Plotting our graph"
   ]
  },
  {
   "cell_type": "markdown",
   "metadata": {},
   "source": [
    "As we see, its a convex function, The amazing property of a convex function is that it only have a global minimum, therefore whenever we reach the minimum, its the lowest we can get for that function.\n",
    "\n",
    "### Gradient Decent\n",
    "Let's code the gradient decent function and start optimizing!"
   ]
  },
  {
   "cell_type": "code",
   "execution_count": 34,
   "metadata": {},
   "outputs": [],
   "source": [
    "def gradient_descent(start_x, learning_rate, epoch):\n",
    "    '''\n",
    "        Arguments:\n",
    "        - start_x : \n",
    "            initial position to start optimizing\n",
    "        - learning_rate :\n",
    "            Step size\n",
    "        - epoch:\n",
    "            Number of itrations to perform\n",
    "    '''\n",
    "    \n",
    "    # Book Keeping gradient values\n",
    "    x_gd = []\n",
    "    y_gd = []\n",
    "    x_gd.append(start_x)\n",
    "    y_gd.append(func_y(start_x))\n",
    "\n",
    "    current_x = start_x\n",
    "    # begin the loops to update x and y\n",
    "    for i in range(epoch):\n",
    "        grad = 2 * (current_x - 3)\n",
    "        next_x = current_x - learning_rate * (grad) #<- Update step\n",
    "        x_gd.append(next_x)\n",
    "        y_gd.append(func_y(next_x))\n",
    "\n",
    "        # update current_x\n",
    "        current_x = next_x\n",
    "\n",
    "    return x_gd, y_gd"
   ]
  },
  {
   "cell_type": "markdown",
   "metadata": {},
   "source": [
    "Let's Start optimizing"
   ]
  },
  {
   "cell_type": "code",
   "execution_count": 35,
   "metadata": {},
   "outputs": [
    {
     "data": {
      "image/png": "[encoded data removed]",
      "text/plain": [
       "<Figure size 432x288 with 1 Axes>"
      ]
     },
     "metadata": {
      "needs_background": "light"
     },
     "output_type": "display_data"
    }
   ],
   "source": [
    "# some Variables you can play with\n",
    "x0 = -3.7 #<- Initial point\n",
    "learning_rate = 0.5 #<- Learning rate, play around with its value to see its effect\n",
    "epoch = 30 #<- Number of iterations\n",
    "\n",
    "x_gd, y_gd = gradient_descent(x0, learning_rate, epoch) #<- Runing gradient descent\n",
    "\n",
    "# Plotting results\n",
    "plt.plot(x_values, y_values, lw = 0.9, color = 'k')\n",
    "plt.xlabel(r'$x$')\n",
    "plt.ylabel(r'$y$')\n",
    "plt.scatter(x_gd, y_gd, c = 'b')\n",
    "\n",
    "\n",
    "# Don't worry about this bit, its just beautifying the plot\n",
    "for i in range(1, epoch+1):\n",
    "    plt.annotate('', xy=(x_gd[i], y_gd[i]), xytext=(x_gd[i-1], y_gd[i-1]),\n",
    "                   arrowprops={'arrowstyle': '->', 'color': 'r', 'lw': 1},\n",
    "                   va='center', ha='center')"
   ]
  },
  {
   "cell_type": "code",
   "execution_count": null,
   "metadata": {},
   "outputs": [],
   "source": []
  }
 ],
 "metadata": {
  "kernelspec": {
   "display_name": "Python 3",
   "language": "python",
   "name": "python3"
  },
  "language_info": {
   "codemirror_mode": {
    "name": "ipython",
    "version": 3
   },
   "file_extension": ".py",
   "mimetype": "text/x-python",
   "name": "python",
   "nbconvert_exporter": "python",
   "pygments_lexer": "ipython3",
   "version": "3.7.4"
  }
 },
 "nbformat": 4,
 "nbformat_minor": 2
}
